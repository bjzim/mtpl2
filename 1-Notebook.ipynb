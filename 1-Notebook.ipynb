{
 "cells": [
  {
   "cell_type": "markdown",
   "metadata": {},
   "source": [
    "# Datenquelle"
   ]
  },
  {
   "cell_type": "markdown",
   "metadata": {},
   "source": [
    "Unter [https://www.openml.org/d/41214](https://www.openml.org/d/41214) und [https://www.openml.org/d/41215](https://www.openml.org/d/41215) finden Sie zwei Datensätze eines französischen Automobilversicherers. \n",
    "\n",
    "Diese beinhalten Risikomerkmale und Schadeninformationen zu Kraftfahrt-Haftpflicht-Versicherungsverträgen (eine Datensatzbeschreibung finden Sie am Ende dieses Textes). "
   ]
  },
  {
   "cell_type": "markdown",
   "metadata": {},
   "source": [
    "# Aufgabe"
   ]
  },
  {
   "cell_type": "markdown",
   "metadata": {},
   "source": [
    "Ihre Aufgabe besteht in der Modellierung der zu erwartenden Schadenhöhe pro Versicherungsnehmer und Jahr anhand der Risikomerkmale der Kunden. Dieser Wert ist Basis für die Berechnung eines fairen Versicherungsbeitrags.\n",
    "\n",
    "Die Ergebnisse ihrer Auswertungen stellen Sie im Rahmen des 60-minütigen technischen Interviews vor. Dabei haben Sie zunächst 15 Minuten Zeit, um die aus ihrer Sicht wesentlichen Ergebnisse vorzustellen. \n",
    "\n",
    "Die Form der Präsentation (frei, Folien, Jupyter-Notebook, R-Markdown...) wählen Sie dabei selbst. Anschließend findet eine Diskussion statt, in deren Rahmen Ihnen Fragen zu ihrer Vorgehensweise sowie zu Ihrem Programmcode gestellt werden. Es sollte anhand ihrer Arbeit gut nachvollziehbar sein, wie sie vorgegangen sind (beispielsweise anhand eines Jupyter-Notebooks oder R-Markdowns).\n"
   ]
  },
  {
   "cell_type": "markdown",
   "metadata": {},
   "source": [
    "# Arbeitsschritte\n",
    "\n",
    "Gehen Sie dabei in folgenden Teilschritten vor:"
   ]
  },
  {
   "cell_type": "markdown",
   "metadata": {},
   "source": [
    "**1 Explorative Datenanalyse:**  \n",
    "Machen Sie sich mit dem Datensatz vertraut. Identifizieren Sie dabei mögliche Probleme sowie grundlegende statistische Zusammenhänge, welche für die anschließende Modellierung wichtig sein könnten.\n",
    "\n",
    "**2 Feature Engineering:**  \n",
    "Bereiten Sie, soweit für ihre Modellierung nötig, die Variablen geeignet auf.\n",
    "\n",
    "**3 Modellvergleich:**  \n",
    "Entscheiden Sie sich für ein geeignetes Modell anhand einer dafür geeigneten Metrik. Erläutern Sie wie Sie dabei vorgehen und begründen Sie ihre Entscheidung.\n",
    "\n",
    "**4 Modellbuilding:**  \n",
    "Trainieren Sie unter Berücksichtigung der vorangegangenen Schritte das von Ihnen gewählte Modell zur Vorhersage der erwarteten Schadenhöhe pro Kunde und Jahr. Ihr Ziel ist es, einen möglichst fairen Versicherungsbeitrag pro Jahr für einzelne Kunden anhand der Ihnen zu Verfügung stehenden Merkmale zu bestimmen. Wählen Sie mindestens eine geeignete Metrik, um die Güte des finalen Modells zu beurteilen. Zeigen Sie, welche Variablen und Zusammenhänge für Ihr finales Modell relevant sind. Überlegen Sie sich (ohne dies umzusetzen) wie Sie Ihr Modell weiter optimieren könnten.\n"
   ]
  },
  {
   "cell_type": "markdown",
   "metadata": {},
   "source": [
    "Diese Coding Challenge ist in etwa **5 Zeitstunden** gut zu erledigen. Wir erwarten nicht, dass Sie mehr Zeit investieren. Bitte teilen Sie sich ihre Zeit entsprechend ein und konzentrieren Sie sich auf das – aus ihrer Sicht - Wesentliche. Eine erschöpfende Tiefenanalyse der Daten und oder eine aufwändige Optimierung vieler verschiedener Modelle werden dementsprechend nicht von Ihnen erwartet.\n"
   ]
  },
  {
   "cell_type": "markdown",
   "metadata": {},
   "source": [
    "# Datensatzbeschreibung"
   ]
  },
  {
   "cell_type": "markdown",
   "metadata": {},
   "source": [
    "freMTPL2freq:\n",
    "\n",
    "    • IDpol: ID des Vertrags\n",
    "    • ClaimNb: Anzahl Schäden im Versicherungszeitraum\n",
    "    • Exposure: Länge des Versicherungszeitraums (in Jahren) [Komponente der abhängigen\n",
    "    Variable]\n",
    "    • Area: Area-Code des Versicherungsnehmers [unabhängige Variable]\n",
    "    • VehPower: Leistung des versicherten Kfz [unabhängige Variable]\n",
    "    • VehAge: Alter des versicherten Kfz [unabhängige Variable]\n",
    "    • DrivAge: Alter des Versicherungsnehmers [unabhängige Variable]\n",
    "    • BonusMalus: Schadenfreiheitsrabatt (französische Entsprechung der Schadenfreiheitsklasse) [unabhängige Variable]\n",
    "    • VehBrand: Marke des versicherten Kfz [unabhängige Variable]\n",
    "    • VehGas: Antrieb des versicherten Kfz [unabhängige Variable]\n",
    "    • Density: Anzahl der Einwohner pro km2 im Wohnort des Versicherungsnehmers [unabhängige Variable]\n",
    "    • Region: Region des Versicherungsnehmers [unabhängige Variable]\n",
    "\n",
    "\n",
    "freMTPL2sev:\n",
    "\n",
    "    • IDpol: ID des Vertrags\n",
    "    • ClaimAmount: Höhe der einzelnen Schadenaufwände (mehrere Einträge pro Vertrag, falls im\n",
    "    Zeitraum mehrere Schäden vorhanden waren.) [Komponente der abhängigen Variable.\n",
    "    \n",
    "    Die abhängige Variable ist definiert als ClaimAmount / Exposure.\n"
   ]
  },
  {
   "cell_type": "markdown",
   "metadata": {},
   "source": [
    "**Hinweis: Der Datensatz steht öffentlich nur im .arff Format zur Verfügung. Mit Hilfe folgender Code-Zeile können Sie die Daten in Python einlesen und zu einem Pandas Dataframe konvertieren:**\n",
    "\n",
    "    import pandas as pd\n",
    "    import arff\n",
    "    data_freq = arff.load('freMTPL2freq.arff')\n",
    "    df_freq = pd.DataFrame(data_freq, columns=[\"IDpol\", \"ClaimNb\", \"Exposure\", \"Area\", \"VehPower\",\n",
    "    \"VehAge\",\"DrivAge\", \"BonusMalus\", \"VehBrand\", \"VehGas\", \"Density\", \"Region\"])\n",
    "    data_sev = arff.load('freMTPL2sev.arff')\n",
    "    df_sev = pd.DataFrame(data_sev, columns=[\"IDpol\", \"ClaimAmount\"])"
   ]
  },
  {
   "cell_type": "code",
   "execution_count": null,
   "metadata": {},
   "outputs": [],
   "source": []
  }
 ],
 "metadata": {
  "language_info": {
   "name": "python"
  }
 },
 "nbformat": 4,
 "nbformat_minor": 2
}
