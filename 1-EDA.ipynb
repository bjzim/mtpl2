{
 "cells": [
  {
   "cell_type": "markdown",
   "metadata": {},
   "source": [
    "**Libraries**"
   ]
  },
  {
   "cell_type": "code",
   "execution_count": 131,
   "metadata": {},
   "outputs": [],
   "source": [
    "from IPython.display import HTML\n",
    "import pandas as pd\n",
    "import numpy as np\n",
    "import arff\n",
    "from ydata_profiling import ProfileReport"
   ]
  },
  {
   "cell_type": "markdown",
   "metadata": {},
   "source": [
    "## Datenvorbereitung"
   ]
  },
  {
   "cell_type": "markdown",
   "metadata": {},
   "source": [
    "**Daten sind zu importieren**"
   ]
  },
  {
   "cell_type": "code",
   "execution_count": 106,
   "metadata": {},
   "outputs": [],
   "source": [
    "data_freq = arff.load('data/freMTPL2freq.arff')\n",
    "df_freq = pd.DataFrame(data_freq, columns=[\"idpol\", \"claimnb\", \"exposure\", \"area\", \"vehpower\",\n",
    "\"vehage\",\"drivage\", \"bonusmalus\", \"vehbrand\", \"vehgas\", \"density\", \"region\"])\n",
    "data_sev = arff.load('data/freMTPL2sev.arff') \n",
    "df_sev = pd.DataFrame(data_sev, columns=[\"idpol\", \"claimamount\"])"
   ]
  },
  {
   "cell_type": "code",
   "execution_count": 107,
   "metadata": {},
   "outputs": [],
   "source": [
    "#TODO: mtpl2 #3 - Erster Überblick über den Datensatz schaffen."
   ]
  },
  {
   "cell_type": "markdown",
   "metadata": {},
   "source": [
    "**Automatisierter Datenreport wird erstellt**"
   ]
  },
  {
   "cell_type": "code",
   "execution_count": 108,
   "metadata": {},
   "outputs": [
    {
     "data": {
      "text/plain": [
       "' profile_sev = ProfileReport(df_sev, title=\"Profiling Report df_sev\")\\nprofile_freq = ProfileReport(df_freq, title=\"Profiling Report df_freq\")\\n\\n#Profilreport wird als HTML abgelegt\\n\\nprofile_sev.to_file(\"data/profiling-df_sev.html\")\\nprofile_freq.to_file(\"data/profiling-df_freq.html\") '"
      ]
     },
     "execution_count": 108,
     "metadata": {},
     "output_type": "execute_result"
    }
   ],
   "source": [
    "\"\"\" profile_sev = ProfileReport(df_sev, title=\"Profiling Report df_sev\")\n",
    "profile_freq = ProfileReport(df_freq, title=\"Profiling Report df_freq\")\n",
    "\n",
    "#Profilreport wird als HTML abgelegt\n",
    "\n",
    "profile_sev.to_file(\"data/profiling-df_sev.html\")\n",
    "profile_freq.to_file(\"data/profiling-df_freq.html\") \"\"\""
   ]
  },
  {
   "cell_type": "markdown",
   "metadata": {},
   "source": [
    "#### Erste Findings aus Profilreport"
   ]
  },
  {
   "cell_type": "markdown",
   "metadata": {},
   "source": [
    "Erste kritische Findings in df_sev:\n",
    "\n",
    "* claimamount ist stark rechtschief.\n",
    "* Es gibt 241 Duplikate.\n",
    "\n",
    "Erste kritische Findings in df_freq:\n",
    "\n",
    "* drivage is highly overall correlated with bonusmalus\tHigh correlation  \n",
    "* bonusmalus is highly overall correlated with drivage\tHigh correlation  \n",
    "* density is highly overall correlated with area\tHigh correlation  \n",
    "* area is highly overall correlated with density\tHigh correlation  \n",
    "* idpol has unique values\tUnique  \n",
    "* claimNb has 643953 (95.0%) zeros\tZeros  \n",
    "* vehage has 57739 (8.5%) zeros  "
   ]
  },
  {
   "cell_type": "markdown",
   "metadata": {},
   "source": [
    "#### Überblick über Dimensionen"
   ]
  },
  {
   "cell_type": "code",
   "execution_count": 109,
   "metadata": {},
   "outputs": [
    {
     "name": "stdout",
     "output_type": "stream",
     "text": [
      "df_sev hat 26639 Reihen mit 2 Spalten.\n"
     ]
    }
   ],
   "source": [
    "print(\"df_sev hat \" +str(df_sev.shape[0]) +\" Reihen mit \" + str(df_sev.shape[1]) + \" Spalten.\")"
   ]
  },
  {
   "cell_type": "code",
   "execution_count": 110,
   "metadata": {},
   "outputs": [
    {
     "name": "stdout",
     "output_type": "stream",
     "text": [
      "df_freq hat 678013 Reihen mit 12 Spalten.\n"
     ]
    }
   ],
   "source": [
    "print(\"df_freq hat \" +str(df_freq.shape[0]) +\" Reihen mit \" + str(df_freq.shape[1]) + \" Spalten.\")"
   ]
  },
  {
   "cell_type": "markdown",
   "metadata": {},
   "source": [
    "#### Überblick über Datentypen"
   ]
  },
  {
   "cell_type": "code",
   "execution_count": 111,
   "metadata": {},
   "outputs": [
    {
     "name": "stdout",
     "output_type": "stream",
     "text": [
      "<class 'pandas.core.frame.DataFrame'>\n",
      "RangeIndex: 26639 entries, 0 to 26638\n",
      "Data columns (total 2 columns):\n",
      " #   Column       Non-Null Count  Dtype  \n",
      "---  ------       --------------  -----  \n",
      " 0   idpol        26639 non-null  float64\n",
      " 1   claimamount  26639 non-null  float64\n",
      "dtypes: float64(2)\n",
      "memory usage: 416.4 KB\n",
      "<class 'pandas.core.frame.DataFrame'>\n",
      "RangeIndex: 678013 entries, 0 to 678012\n",
      "Data columns (total 12 columns):\n",
      " #   Column      Non-Null Count   Dtype  \n",
      "---  ------      --------------   -----  \n",
      " 0   idpol       678013 non-null  float64\n",
      " 1   claimnb     678013 non-null  float64\n",
      " 2   exposure    678013 non-null  float64\n",
      " 3   area        678013 non-null  object \n",
      " 4   vehpower    678013 non-null  float64\n",
      " 5   vehage      678013 non-null  float64\n",
      " 6   drivage     678013 non-null  float64\n",
      " 7   bonusmalus  678013 non-null  float64\n",
      " 8   vehbrand    678013 non-null  object \n",
      " 9   vehgas      678013 non-null  object \n",
      " 10  density     678013 non-null  float64\n",
      " 11  region      678013 non-null  object \n",
      "dtypes: float64(8), object(4)\n",
      "memory usage: 62.1+ MB\n",
      "None None\n"
     ]
    }
   ],
   "source": [
    "print(df_sev.info(), df_freq.info())\n"
   ]
  },
  {
   "cell_type": "markdown",
   "metadata": {},
   "source": [
    "Übersicht **df_sev**:\n",
    "\n",
    "| Column    | Featurename | Inhalt | Datentyp (ist) | Datentyp (soll) |\n",
    "|-----------|-------------|--------|--------|-----------------|\n",
    "| 0         |  idpol      | ID des Vertrags | float64 | $\\textcolor{red}{integer}$ |\n",
    "| 1         |  claimamount| Höhe Schadensaufwände | float64 | float64 |"
   ]
  },
  {
   "cell_type": "markdown",
   "metadata": {},
   "source": [
    "Übersicht **df_freq**:\n",
    "\n",
    "| Column    | Featurename | Inhalt         | Datentyp (ist) | Datentyp (soll) |\n",
    "|-----------|-------------|-----------------|--------|-----------------|\n",
    "| 0         |  idpol      | ID des Vertrags | float64 | $\\textcolor{red}{integer}$ |\n",
    "| 1         |  claimnb    | Anzahl Schäden | float64 | $\\textcolor{red}{integer}$ |\n",
    "| 2         |  exposure   | Länge Versicherungszeitraum | float64 | float64 |\n",
    "| 3         |  area       | Area Code | categorical | categorical | \n",
    "| 4         |  vehpower   | Kfz-Leistung | float64 | $\\textcolor{red}{integer}$ |\n",
    "| 5         |  vehage     | Kfz-Alter | float64 | $\\textcolor{red}{integer}$ |\n",
    "| 6         |  drivage    | Alter der Versicherungsnehmer | float64 | $\\textcolor{red}{integer}$ |\n",
    "| 7         |  bonusmalus | Schadenfreiheitsrabatt  | float64 | $\\textcolor{red}{integer}$ |\n",
    "| 8         |  vehbrand   | Kfz-Marke | categorical | categorical |\n",
    "| 9         |  vehgas     | Kfz-Antrieb  | categorical | categorical |\n",
    "| 10        |  density    | Bevölkerungsdichte in Wohnort | float64 | $\\textcolor{red}{integer}$ |\n",
    "| 11        |  region     | Wohnregion | categorical | categorical |"
   ]
  },
  {
   "cell_type": "markdown",
   "metadata": {},
   "source": [
    "**Entfernen unnötiger Anführungszeichen**\n",
    "\n",
    "Die Werte in **df_freq[[\"area\",\"vehbrand\",\"region\"]]** führen unnötige Anführungszeichen. Daher werden die Werte in Stringformat übertragen, die Zeichen entfernt und die Werte wieder in den Category-Typen zurückübertragen."
   ]
  },
  {
   "cell_type": "code",
   "execution_count": 112,
   "metadata": {},
   "outputs": [
    {
     "data": {
      "text/html": [
       "<div>\n",
       "<style scoped>\n",
       "    .dataframe tbody tr th:only-of-type {\n",
       "        vertical-align: middle;\n",
       "    }\n",
       "\n",
       "    .dataframe tbody tr th {\n",
       "        vertical-align: top;\n",
       "    }\n",
       "\n",
       "    .dataframe thead th {\n",
       "        text-align: right;\n",
       "    }\n",
       "</style>\n",
       "<table border=\"1\" class=\"dataframe\">\n",
       "  <thead>\n",
       "    <tr style=\"text-align: right;\">\n",
       "      <th></th>\n",
       "      <th>idpol</th>\n",
       "      <th>claimnb</th>\n",
       "      <th>exposure</th>\n",
       "      <th>area</th>\n",
       "      <th>vehpower</th>\n",
       "      <th>vehage</th>\n",
       "      <th>drivage</th>\n",
       "      <th>bonusmalus</th>\n",
       "      <th>vehbrand</th>\n",
       "      <th>vehgas</th>\n",
       "      <th>density</th>\n",
       "      <th>region</th>\n",
       "    </tr>\n",
       "  </thead>\n",
       "  <tbody>\n",
       "    <tr>\n",
       "      <th>0</th>\n",
       "      <td>1.0</td>\n",
       "      <td>1.0</td>\n",
       "      <td>0.10</td>\n",
       "      <td>'D'</td>\n",
       "      <td>5.0</td>\n",
       "      <td>0.0</td>\n",
       "      <td>55.0</td>\n",
       "      <td>50.0</td>\n",
       "      <td>'B12'</td>\n",
       "      <td>Regular</td>\n",
       "      <td>1217.0</td>\n",
       "      <td>'R82'</td>\n",
       "    </tr>\n",
       "    <tr>\n",
       "      <th>1</th>\n",
       "      <td>3.0</td>\n",
       "      <td>1.0</td>\n",
       "      <td>0.77</td>\n",
       "      <td>'D'</td>\n",
       "      <td>5.0</td>\n",
       "      <td>0.0</td>\n",
       "      <td>55.0</td>\n",
       "      <td>50.0</td>\n",
       "      <td>'B12'</td>\n",
       "      <td>Regular</td>\n",
       "      <td>1217.0</td>\n",
       "      <td>'R82'</td>\n",
       "    </tr>\n",
       "    <tr>\n",
       "      <th>2</th>\n",
       "      <td>5.0</td>\n",
       "      <td>1.0</td>\n",
       "      <td>0.75</td>\n",
       "      <td>'B'</td>\n",
       "      <td>6.0</td>\n",
       "      <td>2.0</td>\n",
       "      <td>52.0</td>\n",
       "      <td>50.0</td>\n",
       "      <td>'B12'</td>\n",
       "      <td>Diesel</td>\n",
       "      <td>54.0</td>\n",
       "      <td>'R22'</td>\n",
       "    </tr>\n",
       "    <tr>\n",
       "      <th>3</th>\n",
       "      <td>10.0</td>\n",
       "      <td>1.0</td>\n",
       "      <td>0.09</td>\n",
       "      <td>'B'</td>\n",
       "      <td>7.0</td>\n",
       "      <td>0.0</td>\n",
       "      <td>46.0</td>\n",
       "      <td>50.0</td>\n",
       "      <td>'B12'</td>\n",
       "      <td>Diesel</td>\n",
       "      <td>76.0</td>\n",
       "      <td>'R72'</td>\n",
       "    </tr>\n",
       "    <tr>\n",
       "      <th>4</th>\n",
       "      <td>11.0</td>\n",
       "      <td>1.0</td>\n",
       "      <td>0.84</td>\n",
       "      <td>'B'</td>\n",
       "      <td>7.0</td>\n",
       "      <td>0.0</td>\n",
       "      <td>46.0</td>\n",
       "      <td>50.0</td>\n",
       "      <td>'B12'</td>\n",
       "      <td>Diesel</td>\n",
       "      <td>76.0</td>\n",
       "      <td>'R72'</td>\n",
       "    </tr>\n",
       "  </tbody>\n",
       "</table>\n",
       "</div>"
      ],
      "text/plain": [
       "   idpol  claimnb  exposure area  vehpower  vehage  drivage  bonusmalus   \n",
       "0    1.0      1.0      0.10  'D'       5.0     0.0     55.0        50.0  \\\n",
       "1    3.0      1.0      0.77  'D'       5.0     0.0     55.0        50.0   \n",
       "2    5.0      1.0      0.75  'B'       6.0     2.0     52.0        50.0   \n",
       "3   10.0      1.0      0.09  'B'       7.0     0.0     46.0        50.0   \n",
       "4   11.0      1.0      0.84  'B'       7.0     0.0     46.0        50.0   \n",
       "\n",
       "  vehbrand   vehgas  density region  \n",
       "0    'B12'  Regular   1217.0  'R82'  \n",
       "1    'B12'  Regular   1217.0  'R82'  \n",
       "2    'B12'   Diesel     54.0  'R22'  \n",
       "3    'B12'   Diesel     76.0  'R72'  \n",
       "4    'B12'   Diesel     76.0  'R72'  "
      ]
     },
     "execution_count": 112,
     "metadata": {},
     "output_type": "execute_result"
    }
   ],
   "source": [
    "df_freq.head(5)"
   ]
  },
  {
   "cell_type": "code",
   "execution_count": 113,
   "metadata": {},
   "outputs": [
    {
     "name": "stdout",
     "output_type": "stream",
     "text": [
      "<class 'pandas.core.frame.DataFrame'>\n",
      "RangeIndex: 678013 entries, 0 to 678012\n",
      "Data columns (total 3 columns):\n",
      " #   Column    Non-Null Count   Dtype   \n",
      "---  ------    --------------   -----   \n",
      " 0   area      678013 non-null  category\n",
      " 1   vehbrand  678013 non-null  category\n",
      " 2   region    678013 non-null  category\n",
      "dtypes: category(3)\n",
      "memory usage: 1.9 MB\n"
     ]
    }
   ],
   "source": [
    "temp_list = [\"area\",\"vehbrand\",\"region\"]\n",
    "\n",
    "for col in temp_list:\n",
    "    df_freq[col] = df_freq[col].astype(str)\n",
    "    df_freq[col] = df_freq[col].replace(\"'\",\"\", regex=True)\n",
    "    df_freq[col] = df_freq[col].astype(\"category\")\n",
    "\n",
    "df_freq[temp_list].info()"
   ]
  },
  {
   "cell_type": "code",
   "execution_count": 114,
   "metadata": {},
   "outputs": [
    {
     "data": {
      "text/html": [
       "<div>\n",
       "<style scoped>\n",
       "    .dataframe tbody tr th:only-of-type {\n",
       "        vertical-align: middle;\n",
       "    }\n",
       "\n",
       "    .dataframe tbody tr th {\n",
       "        vertical-align: top;\n",
       "    }\n",
       "\n",
       "    .dataframe thead th {\n",
       "        text-align: right;\n",
       "    }\n",
       "</style>\n",
       "<table border=\"1\" class=\"dataframe\">\n",
       "  <thead>\n",
       "    <tr style=\"text-align: right;\">\n",
       "      <th></th>\n",
       "      <th>idpol</th>\n",
       "      <th>claimnb</th>\n",
       "      <th>exposure</th>\n",
       "      <th>area</th>\n",
       "      <th>vehpower</th>\n",
       "      <th>vehage</th>\n",
       "      <th>drivage</th>\n",
       "      <th>bonusmalus</th>\n",
       "      <th>vehbrand</th>\n",
       "      <th>vehgas</th>\n",
       "      <th>density</th>\n",
       "      <th>region</th>\n",
       "    </tr>\n",
       "  </thead>\n",
       "  <tbody>\n",
       "    <tr>\n",
       "      <th>0</th>\n",
       "      <td>1.0</td>\n",
       "      <td>1.0</td>\n",
       "      <td>0.10</td>\n",
       "      <td>D</td>\n",
       "      <td>5.0</td>\n",
       "      <td>0.0</td>\n",
       "      <td>55.0</td>\n",
       "      <td>50.0</td>\n",
       "      <td>B12</td>\n",
       "      <td>Regular</td>\n",
       "      <td>1217.0</td>\n",
       "      <td>R82</td>\n",
       "    </tr>\n",
       "    <tr>\n",
       "      <th>1</th>\n",
       "      <td>3.0</td>\n",
       "      <td>1.0</td>\n",
       "      <td>0.77</td>\n",
       "      <td>D</td>\n",
       "      <td>5.0</td>\n",
       "      <td>0.0</td>\n",
       "      <td>55.0</td>\n",
       "      <td>50.0</td>\n",
       "      <td>B12</td>\n",
       "      <td>Regular</td>\n",
       "      <td>1217.0</td>\n",
       "      <td>R82</td>\n",
       "    </tr>\n",
       "    <tr>\n",
       "      <th>2</th>\n",
       "      <td>5.0</td>\n",
       "      <td>1.0</td>\n",
       "      <td>0.75</td>\n",
       "      <td>B</td>\n",
       "      <td>6.0</td>\n",
       "      <td>2.0</td>\n",
       "      <td>52.0</td>\n",
       "      <td>50.0</td>\n",
       "      <td>B12</td>\n",
       "      <td>Diesel</td>\n",
       "      <td>54.0</td>\n",
       "      <td>R22</td>\n",
       "    </tr>\n",
       "  </tbody>\n",
       "</table>\n",
       "</div>"
      ],
      "text/plain": [
       "   idpol  claimnb  exposure area  vehpower  vehage  drivage  bonusmalus   \n",
       "0    1.0      1.0      0.10    D       5.0     0.0     55.0        50.0  \\\n",
       "1    3.0      1.0      0.77    D       5.0     0.0     55.0        50.0   \n",
       "2    5.0      1.0      0.75    B       6.0     2.0     52.0        50.0   \n",
       "\n",
       "  vehbrand   vehgas  density region  \n",
       "0      B12  Regular   1217.0    R82  \n",
       "1      B12  Regular   1217.0    R82  \n",
       "2      B12   Diesel     54.0    R22  "
      ]
     },
     "metadata": {},
     "output_type": "display_data"
    }
   ],
   "source": [
    "display(df_freq.head(3))"
   ]
  },
  {
   "cell_type": "markdown",
   "metadata": {},
   "source": [
    "**Anpassung der Datentypen**"
   ]
  },
  {
   "cell_type": "markdown",
   "metadata": {},
   "source": [
    "*integer soll werden: idpol*"
   ]
  },
  {
   "cell_type": "code",
   "execution_count": 115,
   "metadata": {},
   "outputs": [],
   "source": [
    "temp_list = [\"idpol\"]"
   ]
  },
  {
   "cell_type": "code",
   "execution_count": 116,
   "metadata": {},
   "outputs": [],
   "source": [
    "for col in temp_list:\n",
    "    df_freq[col] = df_freq[col].astype(int)\n",
    "    df_sev[col] = df_sev[col].astype(int)"
   ]
  },
  {
   "cell_type": "code",
   "execution_count": 117,
   "metadata": {},
   "outputs": [
    {
     "name": "stdout",
     "output_type": "stream",
     "text": [
      "df_sev: \n",
      " <class 'numpy.int64'>\n",
      "df_freq: \n",
      " <class 'numpy.int64'>\n"
     ]
    }
   ],
   "source": [
    "#Prüfung\n",
    "print(\"df_sev: \\n\",type(df_sev[\"idpol\"][0]))\n",
    "print(\"df_freq: \\n\",type(df_freq[\"idpol\"][0]))"
   ]
  },
  {
   "cell_type": "markdown",
   "metadata": {},
   "source": [
    "*integer sollen werden: 'claimnb', 'vehpower', 'vehage', drivage', 'bonusmalus','density'*"
   ]
  },
  {
   "cell_type": "code",
   "execution_count": 118,
   "metadata": {},
   "outputs": [],
   "source": [
    "temp_list = ['claimnb', 'vehpower', 'vehage', 'drivage', 'bonusmalus','density']"
   ]
  },
  {
   "cell_type": "code",
   "execution_count": 119,
   "metadata": {},
   "outputs": [],
   "source": [
    "for col in temp_list:\n",
    "    df_freq[col] = df_freq[col].astype(int)"
   ]
  },
  {
   "cell_type": "code",
   "execution_count": 120,
   "metadata": {},
   "outputs": [
    {
     "name": "stdout",
     "output_type": "stream",
     "text": [
      "<class 'pandas.core.frame.DataFrame'>\n",
      "RangeIndex: 678013 entries, 0 to 678012\n",
      "Data columns (total 6 columns):\n",
      " #   Column      Non-Null Count   Dtype\n",
      "---  ------      --------------   -----\n",
      " 0   claimnb     678013 non-null  int64\n",
      " 1   vehpower    678013 non-null  int64\n",
      " 2   vehage      678013 non-null  int64\n",
      " 3   drivage     678013 non-null  int64\n",
      " 4   bonusmalus  678013 non-null  int64\n",
      " 5   density     678013 non-null  int64\n",
      "dtypes: int64(6)\n",
      "memory usage: 31.0 MB\n"
     ]
    }
   ],
   "source": [
    "#Prüfung\n",
    "df_freq[temp_list].info()"
   ]
  },
  {
   "cell_type": "markdown",
   "metadata": {},
   "source": [
    "**Duplikate-Handling**"
   ]
  },
  {
   "cell_type": "markdown",
   "metadata": {},
   "source": [
    "df_sev hat einige Duplikate. Einigen Vertragsnummern wurden mehrere Schadensaufwendungen zugeordnet. Wir schauen uns das genauer an."
   ]
  },
  {
   "cell_type": "code",
   "execution_count": 147,
   "metadata": {},
   "outputs": [
    {
     "data": {
      "text/html": [
       "<div>\n",
       "<style scoped>\n",
       "    .dataframe tbody tr th:only-of-type {\n",
       "        vertical-align: middle;\n",
       "    }\n",
       "\n",
       "    .dataframe tbody tr th {\n",
       "        vertical-align: top;\n",
       "    }\n",
       "\n",
       "    .dataframe thead th {\n",
       "        text-align: right;\n",
       "    }\n",
       "</style>\n",
       "<table border=\"1\" class=\"dataframe\">\n",
       "  <thead>\n",
       "    <tr style=\"text-align: right;\">\n",
       "      <th></th>\n",
       "      <th>idpol</th>\n",
       "      <th>claimamount</th>\n",
       "    </tr>\n",
       "  </thead>\n",
       "  <tbody>\n",
       "    <tr>\n",
       "      <th>5022</th>\n",
       "      <td>18698</td>\n",
       "      <td>1128.12</td>\n",
       "    </tr>\n",
       "    <tr>\n",
       "      <th>6355</th>\n",
       "      <td>18698</td>\n",
       "      <td>1128.12</td>\n",
       "    </tr>\n",
       "    <tr>\n",
       "      <th>4521</th>\n",
       "      <td>19887</td>\n",
       "      <td>1128.12</td>\n",
       "    </tr>\n",
       "    <tr>\n",
       "      <th>4514</th>\n",
       "      <td>19887</td>\n",
       "      <td>1128.12</td>\n",
       "    </tr>\n",
       "    <tr>\n",
       "      <th>6322</th>\n",
       "      <td>24992</td>\n",
       "      <td>1128.12</td>\n",
       "    </tr>\n",
       "  </tbody>\n",
       "</table>\n",
       "</div>"
      ],
      "text/plain": [
       "      idpol  claimamount\n",
       "5022  18698      1128.12\n",
       "6355  18698      1128.12\n",
       "4521  19887      1128.12\n",
       "4514  19887      1128.12\n",
       "6322  24992      1128.12"
      ]
     },
     "metadata": {},
     "output_type": "display_data"
    },
    {
     "data": {
      "text/html": [
       "<div>\n",
       "<style scoped>\n",
       "    .dataframe tbody tr th:only-of-type {\n",
       "        vertical-align: middle;\n",
       "    }\n",
       "\n",
       "    .dataframe tbody tr th {\n",
       "        vertical-align: top;\n",
       "    }\n",
       "\n",
       "    .dataframe thead th {\n",
       "        text-align: right;\n",
       "    }\n",
       "</style>\n",
       "<table border=\"1\" class=\"dataframe\">\n",
       "  <thead>\n",
       "    <tr style=\"text-align: right;\">\n",
       "      <th></th>\n",
       "      <th>idpol</th>\n",
       "      <th>claimamount</th>\n",
       "    </tr>\n",
       "  </thead>\n",
       "  <tbody>\n",
       "    <tr>\n",
       "      <th>675</th>\n",
       "      <td>5027513</td>\n",
       "      <td>1204.0</td>\n",
       "    </tr>\n",
       "    <tr>\n",
       "      <th>1524</th>\n",
       "      <td>5069017</td>\n",
       "      <td>1204.0</td>\n",
       "    </tr>\n",
       "    <tr>\n",
       "      <th>1550</th>\n",
       "      <td>5069017</td>\n",
       "      <td>1204.0</td>\n",
       "    </tr>\n",
       "    <tr>\n",
       "      <th>2093</th>\n",
       "      <td>6097196</td>\n",
       "      <td>660.0</td>\n",
       "    </tr>\n",
       "    <tr>\n",
       "      <th>2003</th>\n",
       "      <td>6097196</td>\n",
       "      <td>660.0</td>\n",
       "    </tr>\n",
       "  </tbody>\n",
       "</table>\n",
       "</div>"
      ],
      "text/plain": [
       "        idpol  claimamount\n",
       "675   5027513       1204.0\n",
       "1524  5069017       1204.0\n",
       "1550  5069017       1204.0\n",
       "2093  6097196        660.0\n",
       "2003  6097196        660.0"
      ]
     },
     "metadata": {},
     "output_type": "display_data"
    }
   ],
   "source": [
    "# Ein erster Blick\n",
    "check_dupl_head = df_sev[df_sev.duplicated(keep=False)].sort_values('idpol').head(5)\n",
    "check_dupl_tail = df_sev[df_sev.duplicated(keep=False)].sort_values('idpol').tail(5)\n",
    "display(check_dupl_head, check_dupl_tail)"
   ]
  },
  {
   "cell_type": "code",
   "execution_count": 187,
   "metadata": {},
   "outputs": [
    {
     "data": {
      "text/html": [
       "<div>\n",
       "<style scoped>\n",
       "    .dataframe tbody tr th:only-of-type {\n",
       "        vertical-align: middle;\n",
       "    }\n",
       "\n",
       "    .dataframe tbody tr th {\n",
       "        vertical-align: top;\n",
       "    }\n",
       "\n",
       "    .dataframe thead th {\n",
       "        text-align: right;\n",
       "    }\n",
       "</style>\n",
       "<table border=\"1\" class=\"dataframe\">\n",
       "  <thead>\n",
       "    <tr style=\"text-align: right;\">\n",
       "      <th></th>\n",
       "      <th>idpol</th>\n",
       "      <th>claimamount</th>\n",
       "      <th>count</th>\n",
       "    </tr>\n",
       "  </thead>\n",
       "  <tbody>\n",
       "    <tr>\n",
       "      <th>0</th>\n",
       "      <td>2262511</td>\n",
       "      <td>1500.00</td>\n",
       "      <td>6</td>\n",
       "    </tr>\n",
       "    <tr>\n",
       "      <th>2</th>\n",
       "      <td>2282134</td>\n",
       "      <td>1500.00</td>\n",
       "      <td>4</td>\n",
       "    </tr>\n",
       "    <tr>\n",
       "      <th>1</th>\n",
       "      <td>93954</td>\n",
       "      <td>1128.12</td>\n",
       "      <td>4</td>\n",
       "    </tr>\n",
       "    <tr>\n",
       "      <th>3</th>\n",
       "      <td>2227533</td>\n",
       "      <td>1500.00</td>\n",
       "      <td>3</td>\n",
       "    </tr>\n",
       "    <tr>\n",
       "      <th>5</th>\n",
       "      <td>2282134</td>\n",
       "      <td>10000.00</td>\n",
       "      <td>3</td>\n",
       "    </tr>\n",
       "    <tr>\n",
       "      <th>...</th>\n",
       "      <td>...</td>\n",
       "      <td>...</td>\n",
       "      <td>...</td>\n",
       "    </tr>\n",
       "    <tr>\n",
       "      <th>89</th>\n",
       "      <td>4165911</td>\n",
       "      <td>1204.00</td>\n",
       "      <td>2</td>\n",
       "    </tr>\n",
       "    <tr>\n",
       "      <th>90</th>\n",
       "      <td>4170413</td>\n",
       "      <td>1204.00</td>\n",
       "      <td>2</td>\n",
       "    </tr>\n",
       "    <tr>\n",
       "      <th>91</th>\n",
       "      <td>4181834</td>\n",
       "      <td>1204.00</td>\n",
       "      <td>2</td>\n",
       "    </tr>\n",
       "    <tr>\n",
       "      <th>92</th>\n",
       "      <td>4137419</td>\n",
       "      <td>1204.00</td>\n",
       "      <td>2</td>\n",
       "    </tr>\n",
       "    <tr>\n",
       "      <th>240</th>\n",
       "      <td>6097196</td>\n",
       "      <td>660.00</td>\n",
       "      <td>2</td>\n",
       "    </tr>\n",
       "  </tbody>\n",
       "</table>\n",
       "<p>241 rows × 3 columns</p>\n",
       "</div>"
      ],
      "text/plain": [
       "       idpol  claimamount  count\n",
       "0    2262511      1500.00      6\n",
       "2    2282134      1500.00      4\n",
       "1      93954      1128.12      4\n",
       "3    2227533      1500.00      3\n",
       "5    2282134     10000.00      3\n",
       "..       ...          ...    ...\n",
       "89   4165911      1204.00      2\n",
       "90   4170413      1204.00      2\n",
       "91   4181834      1204.00      2\n",
       "92   4137419      1204.00      2\n",
       "240  6097196       660.00      2\n",
       "\n",
       "[241 rows x 3 columns]"
      ]
     },
     "metadata": {},
     "output_type": "display_data"
    }
   ],
   "source": [
    "df_sev_duplicates = pd.DataFrame(df_sev[df_sev.duplicated(keep=False)].value_counts().reset_index())\n",
    "display(df_sev_duplicates.sort_values(\"count\", ascending=False))"
   ]
  },
  {
   "cell_type": "markdown",
   "metadata": {},
   "source": [
    "Sind alle Vertragsnummern immer mit dem gleichen Schaden versehen?"
   ]
  },
  {
   "cell_type": "code",
   "execution_count": 193,
   "metadata": {},
   "outputs": [
    {
     "data": {
      "text/plain": [
       "idpol    claimamount  count\n",
       "2227533  83.12        2        1\n",
       "         1500.00      3        1\n",
       "         7500.00      2        1\n",
       "2262511  1000.00      2        1\n",
       "         1500.00      6        1\n",
       "         10000.00     2        1\n",
       "2282134  1500.00      4        1\n",
       "         10000.00     3        1\n",
       "2286775  1500.00      2        1\n",
       "         10000.00     2        1\n",
       "3254353  1000.00      2        1\n",
       "         1200.00      2        1\n",
       "         1800.00      2        1\n",
       "Name: count, dtype: int64"
      ]
     },
     "execution_count": 193,
     "metadata": {},
     "output_type": "execute_result"
    }
   ],
   "source": [
    "df_sev_duplicates[df_sev_duplicates[\"idpol\"].duplicated(keep=False)].value_counts()"
   ]
  },
  {
   "cell_type": "markdown",
   "metadata": {},
   "source": [
    "Wir sehen also, dass zum Beispiel der Vertrag 2227533\n",
    "* zweimal einen Betrag von 83,12, \n",
    "* dreimal einen Betrag von 1500,00 und\n",
    "* zweimal einen Betrag von 7500,00 abgerufen hat.\n",
    "\n",
    "Das Ergibt eine Summe von 19666,24"
   ]
  },
  {
   "cell_type": "markdown",
   "metadata": {},
   "source": [
    "Wie viele Schadensfälle sind dem Vertrag 2227533 denn zugeordnet?"
   ]
  },
  {
   "cell_type": "code",
   "execution_count": 197,
   "metadata": {},
   "outputs": [
    {
     "data": {
      "text/html": [
       "<div>\n",
       "<style scoped>\n",
       "    .dataframe tbody tr th:only-of-type {\n",
       "        vertical-align: middle;\n",
       "    }\n",
       "\n",
       "    .dataframe tbody tr th {\n",
       "        vertical-align: top;\n",
       "    }\n",
       "\n",
       "    .dataframe thead th {\n",
       "        text-align: right;\n",
       "    }\n",
       "</style>\n",
       "<table border=\"1\" class=\"dataframe\">\n",
       "  <thead>\n",
       "    <tr style=\"text-align: right;\">\n",
       "      <th></th>\n",
       "      <th>idpol</th>\n",
       "      <th>claimnb</th>\n",
       "      <th>exposure</th>\n",
       "      <th>area</th>\n",
       "      <th>vehpower</th>\n",
       "      <th>vehage</th>\n",
       "      <th>drivage</th>\n",
       "      <th>bonusmalus</th>\n",
       "      <th>vehbrand</th>\n",
       "      <th>vehgas</th>\n",
       "      <th>density</th>\n",
       "      <th>region</th>\n",
       "    </tr>\n",
       "  </thead>\n",
       "  <tbody>\n",
       "  </tbody>\n",
       "</table>\n",
       "</div>"
      ],
      "text/plain": [
       "Empty DataFrame\n",
       "Columns: [idpol, claimnb, exposure, area, vehpower, vehage, drivage, bonusmalus, vehbrand, vehgas, density, region]\n",
       "Index: []"
      ]
     },
     "execution_count": 197,
     "metadata": {},
     "output_type": "execute_result"
    }
   ],
   "source": [
    "df_freq.query(\"idpol == 2227533\")"
   ]
  },
  {
   "cell_type": "markdown",
   "metadata": {},
   "source": [
    "Die Vertragsnummer **2227533** scheint nicht zu existieren obwohl ihr Schadensaufwendungen in Höhe von knapp 20000 zugeordnet sind.  \n",
    "Das muss geklärt werden!"
   ]
  },
  {
   "cell_type": "markdown",
   "metadata": {},
   "source": [
    "Wie sieht es zum Beispiel mit Vertrag 3254353 aus?\n",
    "\n",
    "Der Vertrag 3254353 hat nach unseren Daten\n",
    "* zweimal einen Betrag von 1000,00,\n",
    "* zweimal einen Betrag von 1200,00 und\n",
    "* zweimal einen Betrag von 1800,00 abgerufen.\n",
    "\n",
    "Das ergibt eine Summe von 8000"
   ]
  },
  {
   "cell_type": "code",
   "execution_count": 198,
   "metadata": {},
   "outputs": [
    {
     "data": {
      "text/html": [
       "<div>\n",
       "<style scoped>\n",
       "    .dataframe tbody tr th:only-of-type {\n",
       "        vertical-align: middle;\n",
       "    }\n",
       "\n",
       "    .dataframe tbody tr th {\n",
       "        vertical-align: top;\n",
       "    }\n",
       "\n",
       "    .dataframe thead th {\n",
       "        text-align: right;\n",
       "    }\n",
       "</style>\n",
       "<table border=\"1\" class=\"dataframe\">\n",
       "  <thead>\n",
       "    <tr style=\"text-align: right;\">\n",
       "      <th></th>\n",
       "      <th>idpol</th>\n",
       "      <th>claimnb</th>\n",
       "      <th>exposure</th>\n",
       "      <th>area</th>\n",
       "      <th>vehpower</th>\n",
       "      <th>vehage</th>\n",
       "      <th>drivage</th>\n",
       "      <th>bonusmalus</th>\n",
       "      <th>vehbrand</th>\n",
       "      <th>vehgas</th>\n",
       "      <th>density</th>\n",
       "      <th>region</th>\n",
       "    </tr>\n",
       "  </thead>\n",
       "  <tbody>\n",
       "    <tr>\n",
       "      <th>488270</th>\n",
       "      <td>3254353</td>\n",
       "      <td>11</td>\n",
       "      <td>0.07</td>\n",
       "      <td>D</td>\n",
       "      <td>4</td>\n",
       "      <td>13</td>\n",
       "      <td>53</td>\n",
       "      <td>50</td>\n",
       "      <td>B1</td>\n",
       "      <td>Regular</td>\n",
       "      <td>824</td>\n",
       "      <td>R91</td>\n",
       "    </tr>\n",
       "  </tbody>\n",
       "</table>\n",
       "</div>"
      ],
      "text/plain": [
       "          idpol  claimnb  exposure area  vehpower  vehage  drivage   \n",
       "488270  3254353       11      0.07    D         4      13       53  \\\n",
       "\n",
       "        bonusmalus vehbrand   vehgas  density region  \n",
       "488270          50       B1  Regular      824    R91  "
      ]
     },
     "execution_count": 198,
     "metadata": {},
     "output_type": "execute_result"
    }
   ],
   "source": [
    "df_freq.query(\"idpol == 3254353\")"
   ]
  },
  {
   "cell_type": "markdown",
   "metadata": {},
   "source": [
    "Der Vertragsnummer 3254353 wurden 11 Schadensfälle zugeordnet.  \n",
    "Auf der anderen seite wurden 6 Beträge diesen 11 Schadensfällen zugeordnet."
   ]
  },
  {
   "cell_type": "markdown",
   "metadata": {},
   "source": [
    "Schauen wir uns die Vertragsnummer 6097196 an."
   ]
  },
  {
   "cell_type": "code",
   "execution_count": 207,
   "metadata": {},
   "outputs": [
    {
     "data": {
      "text/html": [
       "<div>\n",
       "<style scoped>\n",
       "    .dataframe tbody tr th:only-of-type {\n",
       "        vertical-align: middle;\n",
       "    }\n",
       "\n",
       "    .dataframe tbody tr th {\n",
       "        vertical-align: top;\n",
       "    }\n",
       "\n",
       "    .dataframe thead th {\n",
       "        text-align: right;\n",
       "    }\n",
       "</style>\n",
       "<table border=\"1\" class=\"dataframe\">\n",
       "  <thead>\n",
       "    <tr style=\"text-align: right;\">\n",
       "      <th></th>\n",
       "      <th>idpol</th>\n",
       "      <th>claimamount</th>\n",
       "      <th>count</th>\n",
       "    </tr>\n",
       "  </thead>\n",
       "  <tbody>\n",
       "    <tr>\n",
       "      <th>240</th>\n",
       "      <td>6097196</td>\n",
       "      <td>660.0</td>\n",
       "      <td>2</td>\n",
       "    </tr>\n",
       "  </tbody>\n",
       "</table>\n",
       "</div>"
      ],
      "text/plain": [
       "       idpol  claimamount  count\n",
       "240  6097196        660.0      2"
      ]
     },
     "metadata": {},
     "output_type": "display_data"
    }
   ],
   "source": [
    "display(df_sev_duplicates.sort_values(\"count\", ascending=False).query('idpol == 6097196'))"
   ]
  },
  {
   "cell_type": "markdown",
   "metadata": {},
   "source": [
    "Der Vertragsnummer 6097196 werden zwei Beträge von 660 zugeordnet.  \n",
    "\n",
    "Wie viele Schadensfälle stehen dem gegenüber?"
   ]
  },
  {
   "cell_type": "code",
   "execution_count": 208,
   "metadata": {},
   "outputs": [
    {
     "data": {
      "text/html": [
       "<div>\n",
       "<style scoped>\n",
       "    .dataframe tbody tr th:only-of-type {\n",
       "        vertical-align: middle;\n",
       "    }\n",
       "\n",
       "    .dataframe tbody tr th {\n",
       "        vertical-align: top;\n",
       "    }\n",
       "\n",
       "    .dataframe thead th {\n",
       "        text-align: right;\n",
       "    }\n",
       "</style>\n",
       "<table border=\"1\" class=\"dataframe\">\n",
       "  <thead>\n",
       "    <tr style=\"text-align: right;\">\n",
       "      <th></th>\n",
       "      <th>idpol</th>\n",
       "      <th>claimnb</th>\n",
       "      <th>exposure</th>\n",
       "      <th>area</th>\n",
       "      <th>vehpower</th>\n",
       "      <th>vehage</th>\n",
       "      <th>drivage</th>\n",
       "      <th>bonusmalus</th>\n",
       "      <th>vehbrand</th>\n",
       "      <th>vehgas</th>\n",
       "      <th>density</th>\n",
       "      <th>region</th>\n",
       "    </tr>\n",
       "  </thead>\n",
       "  <tbody>\n",
       "    <tr>\n",
       "      <th>667008</th>\n",
       "      <td>6097196</td>\n",
       "      <td>2</td>\n",
       "      <td>0.42</td>\n",
       "      <td>E</td>\n",
       "      <td>8</td>\n",
       "      <td>2</td>\n",
       "      <td>52</td>\n",
       "      <td>64</td>\n",
       "      <td>B12</td>\n",
       "      <td>Diesel</td>\n",
       "      <td>3317</td>\n",
       "      <td>R93</td>\n",
       "    </tr>\n",
       "  </tbody>\n",
       "</table>\n",
       "</div>"
      ],
      "text/plain": [
       "          idpol  claimnb  exposure area  vehpower  vehage  drivage   \n",
       "667008  6097196        2      0.42    E         8       2       52  \\\n",
       "\n",
       "        bonusmalus vehbrand  vehgas  density region  \n",
       "667008          64      B12  Diesel     3317    R93  "
      ]
     },
     "execution_count": 208,
     "metadata": {},
     "output_type": "execute_result"
    }
   ],
   "source": [
    "df_freq.query(\"idpol == 6097196\")"
   ]
  },
  {
   "cell_type": "markdown",
   "metadata": {},
   "source": [
    "Beim Vertrag 6097196 stehen die gleiche Anzahl von Schäden den Beträgen gegenüber."
   ]
  },
  {
   "cell_type": "markdown",
   "metadata": {},
   "source": [
    "**Zwischenstand:**\n",
    "\n",
    "Die Datenlage sollte auf jeden Fall noch einmal vertieft betrachtet werden. \n",
    "Es gibt wohl nach erster Analyse \n",
    "\n",
    "* Schadensaufwendungen, die keinen Vertragsnehmern zugeordnet werden können,\n",
    "* Vertragsnehmer, die Schadensfälle gemeldet haben, denen keine Schadensaufwendungen zugeordnet sind und\n",
    "* Schadensaufwendungen, die mehrmals gebucht wurden.\n",
    "\n",
    "Aus Gründen der Angemessenheit fahre ich nun fort."
   ]
  },
  {
   "cell_type": "markdown",
   "metadata": {},
   "source": [
    "**Wie also nun umgehen mit den Duplikaten in df_sev ?**\n",
    "\n",
    "Ich entscheide mich dafür, die Duplikate auf die Vertragsnummern aufzusummieren."
   ]
  },
  {
   "cell_type": "code",
   "execution_count": 219,
   "metadata": {},
   "outputs": [],
   "source": [
    "# Gruppieren nach 'idpol' und Summierung der 'claimamount' Werte\n",
    "summed_claims = df_sev.groupby('idpol')['claimamount'].sum().reset_index()\n",
    "df_summed_claims = pd.DataFrame(summed_claims)"
   ]
  },
  {
   "cell_type": "markdown",
   "metadata": {},
   "source": [
    "Hat Vertragsnummer 6097196 nun einen Claimamount von 1320?"
   ]
  },
  {
   "cell_type": "code",
   "execution_count": 218,
   "metadata": {},
   "outputs": [
    {
     "data": {
      "text/html": [
       "<div>\n",
       "<style scoped>\n",
       "    .dataframe tbody tr th:only-of-type {\n",
       "        vertical-align: middle;\n",
       "    }\n",
       "\n",
       "    .dataframe tbody tr th {\n",
       "        vertical-align: top;\n",
       "    }\n",
       "\n",
       "    .dataframe thead th {\n",
       "        text-align: right;\n",
       "    }\n",
       "</style>\n",
       "<table border=\"1\" class=\"dataframe\">\n",
       "  <thead>\n",
       "    <tr style=\"text-align: right;\">\n",
       "      <th></th>\n",
       "      <th>idpol</th>\n",
       "      <th>claimamount</th>\n",
       "    </tr>\n",
       "  </thead>\n",
       "  <tbody>\n",
       "    <tr>\n",
       "      <th>24747</th>\n",
       "      <td>6097196</td>\n",
       "      <td>1320.0</td>\n",
       "    </tr>\n",
       "  </tbody>\n",
       "</table>\n",
       "</div>"
      ],
      "text/plain": [
       "         idpol  claimamount\n",
       "24747  6097196       1320.0"
      ]
     },
     "execution_count": 218,
     "metadata": {},
     "output_type": "execute_result"
    }
   ],
   "source": [
    "df_summed_claims.query('idpol == 6097196')"
   ]
  },
  {
   "cell_type": "code",
   "execution_count": 79,
   "metadata": {},
   "outputs": [],
   "source": [
    "#TODO: Wie soll das merging gemacht werden? Warum diese Entscheidung?\n",
    "#TODO: nach dem Merging: Missing Values?"
   ]
  }
 ],
 "metadata": {
  "kernelspec": {
   "display_name": ".venv",
   "language": "python",
   "name": "python3"
  },
  "language_info": {
   "codemirror_mode": {
    "name": "ipython",
    "version": 3
   },
   "file_extension": ".py",
   "mimetype": "text/x-python",
   "name": "python",
   "nbconvert_exporter": "python",
   "pygments_lexer": "ipython3",
   "version": "3.11.3"
  }
 },
 "nbformat": 4,
 "nbformat_minor": 2
}
