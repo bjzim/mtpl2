{
 "cells": [
  {
   "cell_type": "markdown",
   "metadata": {},
   "source": [
    "**Libraries**"
   ]
  },
  {
   "cell_type": "code",
   "execution_count": 1,
   "metadata": {},
   "outputs": [],
   "source": [
    "import pandas as pd\n",
    "import numpy as np\n",
    "import arff\n",
    "from ydata_profiling import ProfileReport"
   ]
  },
  {
   "cell_type": "markdown",
   "metadata": {},
   "source": [
    "## Datenvorbereitung"
   ]
  },
  {
   "cell_type": "markdown",
   "metadata": {},
   "source": [
    "**Daten sind zu importieren**"
   ]
  },
  {
   "cell_type": "code",
   "execution_count": 45,
   "metadata": {},
   "outputs": [],
   "source": [
    "data_freq = arff.load('data/freMTPL2freq.arff')\n",
    "df_freq = pd.DataFrame(data_freq, columns=[\"idpol\", \"claimnb\", \"exposure\", \"area\", \"vehpower\",\n",
    "\"vehage\",\"drivage\", \"bonusmalus\", \"vehbrand\", \"vehgas\", \"density\", \"region\"])\n",
    "data_sev = arff.load('data/freMTPL2sev.arff') \n",
    "df_sev = pd.DataFrame(data_sev, columns=[\"idpol\", \"claimamount\"])"
   ]
  },
  {
   "cell_type": "code",
   "execution_count": 6,
   "metadata": {},
   "outputs": [],
   "source": [
    "#TODO: mtpl2 #3 - Erster Überblick über den Datensatz schaffen."
   ]
  },
  {
   "cell_type": "markdown",
   "metadata": {},
   "source": [
    "**Automatisierter Datenreport wird erstellt**"
   ]
  },
  {
   "cell_type": "code",
   "execution_count": 8,
   "metadata": {},
   "outputs": [],
   "source": [
    "profile_sev = ProfileReport(df_sev, title=\"Profiling Report df_sev\")\n",
    "profile_freq = ProfileReport(df_freq, title=\"Profiling Report df_freq\")\n",
    "\n",
    "#Profilreport wird als HTML abgelegt\n",
    "\n",
    "profile_sev.to_file(\"data/profiling-df_sev.html\")\n",
    "profile_freq.to_file(\"data/profiling-df_freq.html\")"
   ]
  },
  {
   "cell_type": "markdown",
   "metadata": {},
   "source": [
    "#### Erste Findings aus Profilreport"
   ]
  },
  {
   "cell_type": "markdown",
   "metadata": {},
   "source": [
    "Erste kritische Findings in df_sev:\n",
    "\n",
    "* claimamount ist stark rechtschief.\n",
    "* Es gibt 241 Duplikate.\n",
    "\n",
    "Erste kritische Findings in df_freq:\n",
    "\n",
    "* drivage is highly overall correlated with bonusmalus\tHigh correlation  \n",
    "* bonusmalus is highly overall correlated with drivage\tHigh correlation  \n",
    "* density is highly overall correlated with area\tHigh correlation  \n",
    "* area is highly overall correlated with density\tHigh correlation  \n",
    "* idpol has unique values\tUnique  \n",
    "* claimNb has 643953 (95.0%) zeros\tZeros  \n",
    "* vehage has 57739 (8.5%) zeros  "
   ]
  },
  {
   "cell_type": "markdown",
   "metadata": {},
   "source": [
    "#### Überblick über Dimensionen"
   ]
  },
  {
   "cell_type": "code",
   "execution_count": 15,
   "metadata": {},
   "outputs": [
    {
     "name": "stdout",
     "output_type": "stream",
     "text": [
      "df_sev hat 26639 Reihen mit 2 Spalten.\n"
     ]
    }
   ],
   "source": [
    "print(\"df_sev hat \" +str(df_sev.shape[0]) +\" Reihen mit \" + str(df_sev.shape[1]) + \" Spalten.\")"
   ]
  },
  {
   "cell_type": "code",
   "execution_count": 39,
   "metadata": {},
   "outputs": [
    {
     "name": "stdout",
     "output_type": "stream",
     "text": [
      "df_freq hat 678013 Reihen mit 12 Spalten.\n"
     ]
    }
   ],
   "source": [
    "print(\"df_freq hat \" +str(df_freq.shape[0]) +\" Reihen mit \" + str(df_freq.shape[1]) + \" Spalten.\")"
   ]
  },
  {
   "cell_type": "markdown",
   "metadata": {},
   "source": [
    "#### Überblick über Datentypen"
   ]
  },
  {
   "cell_type": "code",
   "execution_count": 46,
   "metadata": {},
   "outputs": [
    {
     "name": "stdout",
     "output_type": "stream",
     "text": [
      "<class 'pandas.core.frame.DataFrame'>\n",
      "RangeIndex: 26639 entries, 0 to 26638\n",
      "Data columns (total 2 columns):\n",
      " #   Column       Non-Null Count  Dtype  \n",
      "---  ------       --------------  -----  \n",
      " 0   idpol        26639 non-null  float64\n",
      " 1   claimamount  26639 non-null  float64\n",
      "dtypes: float64(2)\n",
      "memory usage: 416.4 KB\n",
      "<class 'pandas.core.frame.DataFrame'>\n",
      "RangeIndex: 678013 entries, 0 to 678012\n",
      "Data columns (total 12 columns):\n",
      " #   Column      Non-Null Count   Dtype  \n",
      "---  ------      --------------   -----  \n",
      " 0   idpol       678013 non-null  float64\n",
      " 1   claimnb     678013 non-null  float64\n",
      " 2   exposure    678013 non-null  float64\n",
      " 3   area        678013 non-null  object \n",
      " 4   vehpower    678013 non-null  float64\n",
      " 5   vehage      678013 non-null  float64\n",
      " 6   drivage     678013 non-null  float64\n",
      " 7   bonusmalus  678013 non-null  float64\n",
      " 8   vehbrand    678013 non-null  object \n",
      " 9   vehgas      678013 non-null  object \n",
      " 10  density     678013 non-null  float64\n",
      " 11  region      678013 non-null  object \n",
      "dtypes: float64(8), object(4)\n",
      "memory usage: 62.1+ MB\n",
      "None None\n"
     ]
    }
   ],
   "source": [
    "print(df_sev.info(), df_freq.info())\n"
   ]
  },
  {
   "cell_type": "markdown",
   "metadata": {},
   "source": [
    "Übersicht **df_sev**:\n",
    "\n",
    "| Column    | Featurename | Inhalt | Datentyp (ist) | Datentyp (soll) |\n",
    "|-----------|-------------|--------|--------|-----------------|\n",
    "| 0         |  idpol      | ID des Vertrags | float64 | $\\textcolor{red}{categorical}$ |\n",
    "| 1         |  claimamount| Höhe Schadensaufwände | float64 | float64 |"
   ]
  },
  {
   "cell_type": "markdown",
   "metadata": {},
   "source": [
    "Übersicht **df_freq**:\n",
    "\n",
    "| Column    | Featurename | Inhalt         | Datentyp (ist) | Datentyp (soll) |\n",
    "|-----------|-------------|-----------------|--------|-----------------|\n",
    "| 0         |  idpol      | ID des Vertrags | float64 | $\\textcolor{red}{categorical}$ |\n",
    "| 1         |  claimnb    | Anzahl Schäden | float64 | $\\textcolor{red}{integer}$ |\n",
    "| 2         |  exposure   | Länge Versicherungszeitraum | float64 | float64 |\n",
    "| 3         |  area       | Area Code | categorical | categorical | \n",
    "| 4         |  vehpower   | Kfz-Leistung | float64 | $\\textcolor{red}{integer}$ |\n",
    "| 5         |  vehage     | Kfz-Alter | float64 | $\\textcolor{red}{integer}$ |\n",
    "| 6         |  drivage    | Alter der Versicherungsnehmer | float64 | $\\textcolor{red}{integer}$ |\n",
    "| 7         |  bonusmalus | Schadenfreiheitsrabatt  | float64 | $\\textcolor{red}{integer}$ |\n",
    "| 8         |  vehbrand   | Kfz-Marke | categorical | categorical |\n",
    "| 9         |  vehgas     | Kfz-Antrieb  | categorical | categorical |\n",
    "| 10        |  density    | Bevölkerungsdichte in Wohnort | float64 | $\\textcolor{red}{integer}$ |\n",
    "| 11        |  region     | Wohnregion | categorical | categorical |"
   ]
  },
  {
   "cell_type": "code",
   "execution_count": 3,
   "metadata": {},
   "outputs": [
    {
     "data": {
      "text/html": [
       "<div>\n",
       "<style scoped>\n",
       "    .dataframe tbody tr th:only-of-type {\n",
       "        vertical-align: middle;\n",
       "    }\n",
       "\n",
       "    .dataframe tbody tr th {\n",
       "        vertical-align: top;\n",
       "    }\n",
       "\n",
       "    .dataframe thead th {\n",
       "        text-align: right;\n",
       "    }\n",
       "</style>\n",
       "<table border=\"1\" class=\"dataframe\">\n",
       "  <thead>\n",
       "    <tr style=\"text-align: right;\">\n",
       "      <th></th>\n",
       "      <th>IDpol</th>\n",
       "      <th>ClaimNb</th>\n",
       "      <th>Exposure</th>\n",
       "      <th>Area</th>\n",
       "      <th>VehPower</th>\n",
       "      <th>VehAge</th>\n",
       "      <th>DrivAge</th>\n",
       "      <th>BonusMalus</th>\n",
       "      <th>VehBrand</th>\n",
       "      <th>VehGas</th>\n",
       "      <th>Density</th>\n",
       "      <th>Region</th>\n",
       "    </tr>\n",
       "  </thead>\n",
       "  <tbody>\n",
       "    <tr>\n",
       "      <th>0</th>\n",
       "      <td>1.0</td>\n",
       "      <td>1.0</td>\n",
       "      <td>0.10</td>\n",
       "      <td>'D'</td>\n",
       "      <td>5.0</td>\n",
       "      <td>0.0</td>\n",
       "      <td>55.0</td>\n",
       "      <td>50.0</td>\n",
       "      <td>'B12'</td>\n",
       "      <td>Regular</td>\n",
       "      <td>1217.0</td>\n",
       "      <td>'R82'</td>\n",
       "    </tr>\n",
       "    <tr>\n",
       "      <th>1</th>\n",
       "      <td>3.0</td>\n",
       "      <td>1.0</td>\n",
       "      <td>0.77</td>\n",
       "      <td>'D'</td>\n",
       "      <td>5.0</td>\n",
       "      <td>0.0</td>\n",
       "      <td>55.0</td>\n",
       "      <td>50.0</td>\n",
       "      <td>'B12'</td>\n",
       "      <td>Regular</td>\n",
       "      <td>1217.0</td>\n",
       "      <td>'R82'</td>\n",
       "    </tr>\n",
       "    <tr>\n",
       "      <th>2</th>\n",
       "      <td>5.0</td>\n",
       "      <td>1.0</td>\n",
       "      <td>0.75</td>\n",
       "      <td>'B'</td>\n",
       "      <td>6.0</td>\n",
       "      <td>2.0</td>\n",
       "      <td>52.0</td>\n",
       "      <td>50.0</td>\n",
       "      <td>'B12'</td>\n",
       "      <td>Diesel</td>\n",
       "      <td>54.0</td>\n",
       "      <td>'R22'</td>\n",
       "    </tr>\n",
       "    <tr>\n",
       "      <th>3</th>\n",
       "      <td>10.0</td>\n",
       "      <td>1.0</td>\n",
       "      <td>0.09</td>\n",
       "      <td>'B'</td>\n",
       "      <td>7.0</td>\n",
       "      <td>0.0</td>\n",
       "      <td>46.0</td>\n",
       "      <td>50.0</td>\n",
       "      <td>'B12'</td>\n",
       "      <td>Diesel</td>\n",
       "      <td>76.0</td>\n",
       "      <td>'R72'</td>\n",
       "    </tr>\n",
       "    <tr>\n",
       "      <th>4</th>\n",
       "      <td>11.0</td>\n",
       "      <td>1.0</td>\n",
       "      <td>0.84</td>\n",
       "      <td>'B'</td>\n",
       "      <td>7.0</td>\n",
       "      <td>0.0</td>\n",
       "      <td>46.0</td>\n",
       "      <td>50.0</td>\n",
       "      <td>'B12'</td>\n",
       "      <td>Diesel</td>\n",
       "      <td>76.0</td>\n",
       "      <td>'R72'</td>\n",
       "    </tr>\n",
       "  </tbody>\n",
       "</table>\n",
       "</div>"
      ],
      "text/plain": [
       "   IDpol  ClaimNb  Exposure Area  VehPower  VehAge  DrivAge  BonusMalus   \n",
       "0    1.0      1.0      0.10  'D'       5.0     0.0     55.0        50.0  \\\n",
       "1    3.0      1.0      0.77  'D'       5.0     0.0     55.0        50.0   \n",
       "2    5.0      1.0      0.75  'B'       6.0     2.0     52.0        50.0   \n",
       "3   10.0      1.0      0.09  'B'       7.0     0.0     46.0        50.0   \n",
       "4   11.0      1.0      0.84  'B'       7.0     0.0     46.0        50.0   \n",
       "\n",
       "  VehBrand   VehGas  Density Region  \n",
       "0    'B12'  Regular   1217.0  'R82'  \n",
       "1    'B12'  Regular   1217.0  'R82'  \n",
       "2    'B12'   Diesel     54.0  'R22'  \n",
       "3    'B12'   Diesel     76.0  'R72'  \n",
       "4    'B12'   Diesel     76.0  'R72'  "
      ]
     },
     "execution_count": 3,
     "metadata": {},
     "output_type": "execute_result"
    }
   ],
   "source": [
    "df_freq.head(5)"
   ]
  },
  {
   "cell_type": "code",
   "execution_count": 73,
   "metadata": {},
   "outputs": [],
   "source": [
    "#TODO: Anpassung der Datentypen"
   ]
  },
  {
   "cell_type": "code",
   "execution_count": 76,
   "metadata": {},
   "outputs": [],
   "source": [
    "#TODO: Entfernen der Anführungszeichen"
   ]
  },
  {
   "cell_type": "code",
   "execution_count": 78,
   "metadata": {},
   "outputs": [],
   "source": [
    "#TODO: vor dem Merging : Duplikate-Handling?"
   ]
  },
  {
   "cell_type": "code",
   "execution_count": null,
   "metadata": {},
   "outputs": [],
   "source": [
    "#TODO: "
   ]
  }
 ],
 "metadata": {
  "kernelspec": {
   "display_name": ".venv",
   "language": "python",
   "name": "python3"
  },
  "language_info": {
   "codemirror_mode": {
    "name": "ipython",
    "version": 3
   },
   "file_extension": ".py",
   "mimetype": "text/x-python",
   "name": "python",
   "nbconvert_exporter": "python",
   "pygments_lexer": "ipython3",
   "version": "3.11.3"
  }
 },
 "nbformat": 4,
 "nbformat_minor": 2
}
